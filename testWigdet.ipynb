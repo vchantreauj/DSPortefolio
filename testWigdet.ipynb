{
 "cells": [
  {
   "cell_type": "code",
   "execution_count": 2,
   "id": "coordinated-pharmacy",
   "metadata": {},
   "outputs": [],
   "source": [
    "import ipywidgets as widgets\n",
    "from ipywidgets import interact, interactive, fixed, interact_manual\n",
    "from IPython.display import Image, display, HTML"
   ]
  },
  {
   "cell_type": "code",
   "execution_count": 3,
   "id": "established-absorption",
   "metadata": {},
   "outputs": [
    {
     "data": {
      "application/vnd.jupyter.widget-view+json": {
       "model_id": "ae571118df1545df91e13b3f08c1f89c",
       "version_major": 2,
       "version_minor": 0
      },
      "text/plain": [
       "interactive(children=(Select(description='Catégorie :', index=1, options=('Quiz', 'Vidéo', 'Web', 'Document'),…"
      ]
     },
     "metadata": {},
     "output_type": "display_data"
    }
   ],
   "source": [
    "type_act = widgets.Select(\n",
    "    options=['Quiz', 'Vidéo', 'Web', 'Document'],\n",
    "    value='Vidéo',\n",
    "    # rows=10,\n",
    "    description='Catégorie :',\n",
    "    disabled=False\n",
    ")\n",
    "\n",
    "def reco(param=''):\n",
    "    display('Demande de reco pour '+param)\n",
    "    \n",
    "interactive(reco,param=type_act)"
   ]
  }
 ],
 "metadata": {
  "kernelspec": {
   "display_name": "Python 3",
   "language": "python",
   "name": "python3"
  },
  "language_info": {
   "codemirror_mode": {
    "name": "ipython",
    "version": 3
   },
   "file_extension": ".py",
   "mimetype": "text/x-python",
   "name": "python",
   "nbconvert_exporter": "python",
   "pygments_lexer": "ipython3",
   "version": "3.9.2"
  }
 },
 "nbformat": 4,
 "nbformat_minor": 5
}
